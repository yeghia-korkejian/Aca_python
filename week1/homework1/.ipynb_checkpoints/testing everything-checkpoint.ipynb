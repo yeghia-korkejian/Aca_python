{
 "cells": [
  {
   "cell_type": "code",
   "execution_count": 11,
   "metadata": {},
   "outputs": [
    {
     "name": "stdout",
     "output_type": "stream",
     "text": [
      "yeghia\n",
      "Welcome, yeghia !\n"
     ]
    }
   ],
   "source": [
    "user_name = input()\n",
    "print (\"Welcome,\", user_name,\"!\")"
   ]
  },
  {
   "cell_type": "code",
   "execution_count": 19,
   "metadata": {},
   "outputs": [
    {
     "name": "stdout",
     "output_type": "stream",
     "text": [
      "Welcome, Yeghia !\n"
     ]
    }
   ],
   "source": [
    "run ../week2/problem3.py \"Yeghia\""
   ]
  },
  {
   "cell_type": "code",
   "execution_count": 31,
   "metadata": {},
   "outputs": [
    {
     "name": "stdout",
     "output_type": "stream",
     "text": [
      "Happy Birthday, you are already 26 ​years old!\n"
     ]
    }
   ],
   "source": [
    "run ../week2/problem4.py --age=26"
   ]
  },
  {
   "cell_type": "code",
   "execution_count": 30,
   "metadata": {},
   "outputs": [
    {
     "name": "stdout",
     "output_type": "stream",
     "text": [
      "The given string: kasnDRa\n",
      "All lowercase: kasndra\n",
      "All uppercase: KASNDRA\n"
     ]
    }
   ],
   "source": [
    "run ../week2/problem5.py \"kasnDRa\""
   ]
  },
  {
   "cell_type": "code",
   "execution_count": 34,
   "metadata": {},
   "outputs": [
    {
     "name": "stdout",
     "output_type": "stream",
     "text": [
      "yeghiaaaabbc\n",
      "The given text: yeghiaaaabbc\n",
      "# of a: 4\n",
      "# of b: 2\n",
      "# of c: 1\n",
      "# of d: 0\n",
      "# of e: 1\n"
     ]
    }
   ],
   "source": [
    "text1 = input()\n",
    "print (\"The given text:\",text1)\n",
    "print (\"# of a:\",text1.count('a'))\n",
    "print (\"# of b:\",text1.count('b'))\n",
    "print (\"# of c:\",text1.count('c'))\n",
    "print (\"# of d:\",text1.count('d'))\n",
    "print (\"# of e:\",text1.count('e'))"
   ]
  },
  {
   "cell_type": "code",
   "execution_count": null,
   "metadata": {},
   "outputs": [],
   "source": []
  }
 ],
 "metadata": {
  "kernelspec": {
   "display_name": "Python 3",
   "language": "python",
   "name": "python3"
  },
  "language_info": {
   "codemirror_mode": {
    "name": "ipython",
    "version": 3
   },
   "file_extension": ".py",
   "mimetype": "text/x-python",
   "name": "python",
   "nbconvert_exporter": "python",
   "pygments_lexer": "ipython3",
   "version": "3.7.4"
  }
 },
 "nbformat": 4,
 "nbformat_minor": 2
}
