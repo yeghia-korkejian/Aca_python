{
 "cells": [
  {
   "cell_type": "markdown",
   "metadata": {},
   "source": [
    "# Problem 1"
   ]
  },
  {
   "cell_type": "code",
   "execution_count": 18,
   "metadata": {},
   "outputs": [
    {
     "name": "stdout",
     "output_type": "stream",
     "text": [
      "False\n",
      "True\n",
      "True\n",
      "False\n",
      "flour -  175 g\n",
      "butter -  175 g\n",
      "sugar -  100 g\n",
      "eggs -  2\n",
      "cocoa_powder -  1 ts\n",
      "baking_powder -  0.5 ts\n"
     ]
    }
   ],
   "source": [
    "project = \"cake\"\n",
    "difficulty = 1\n",
    "ingredients = [\"flour\", \"butter\",\"sugar\", \"eggs\", \"cocoa powder\", \"baking powder\"]\n",
    "print (\"apples\" in ingredients)\n",
    "print (\"butter\" in ingredients)\n",
    "print ((\"eggs\" in ingredients) or (\"margarine\" in ingredients))\n",
    "print ((\"eggs\" in ingredients) and (\"margarine\" in ingredients))\n",
    "flour =175\n",
    "butter =175\n",
    "sugar =100\n",
    "eggs =2\n",
    "cocoa_powder =1\n",
    "baking_powder =0.5\n",
    "print (\"flour - \",flour,\"g\")\n",
    "print (\"butter - \" ,butter,\"g\")\n",
    "print (\"sugar - \" ,sugar,\"g\")\n",
    "print (\"eggs - \" ,eggs)\n",
    "print (\"cocoa_powder - \" ,cocoa_powder,\"ts\")\n",
    "print (\"baking_powder - \" ,baking_powder,\"ts\")"
   ]
  },
  {
   "cell_type": "markdown",
   "metadata": {},
   "source": [
    "# Problem 3"
   ]
  },
  {
   "cell_type": "code",
   "execution_count": 37,
   "metadata": {},
   "outputs": [
    {
     "name": "stdout",
     "output_type": "stream",
     "text": [
      "1003.0\n",
      "852\n"
     ]
    }
   ],
   "source": [
    "a = 15\n",
    "b = 8\n",
    "c = 2\n",
    "print (5*a**2-a*b+(a%2)-a/5)\n",
    "print (b**3+3*a*b-10*c)"
   ]
  },
  {
   "cell_type": "markdown",
   "metadata": {},
   "source": [
    "# Problem 4"
   ]
  },
  {
   "cell_type": "code",
   "execution_count": 1,
   "metadata": {},
   "outputs": [
    {
     "name": "stdout",
     "output_type": "stream",
     "text": [
      "52\n",
      "even\n"
     ]
    }
   ],
   "source": [
    "x = input()\n",
    "x = int(x)\n",
    "if x%2 != 0:\n",
    "    print (\"odd\")\n",
    "else:\n",
    "    print (\"even\")"
   ]
  },
  {
   "cell_type": "code",
   "execution_count": null,
   "metadata": {},
   "outputs": [],
   "source": []
  }
 ],
 "metadata": {
  "kernelspec": {
   "display_name": "Python 3",
   "language": "python",
   "name": "python3"
  },
  "language_info": {
   "codemirror_mode": {
    "name": "ipython",
    "version": 3
   },
   "file_extension": ".py",
   "mimetype": "text/x-python",
   "name": "python",
   "nbconvert_exporter": "python",
   "pygments_lexer": "ipython3",
   "version": "3.7.4"
  }
 },
 "nbformat": 4,
 "nbformat_minor": 2
}
